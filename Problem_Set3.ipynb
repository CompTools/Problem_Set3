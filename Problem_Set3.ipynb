{
 "cells": [
  {
   "cell_type": "code",
   "execution_count": 41,
   "metadata": {},
   "outputs": [
    {
     "name": "stdout",
     "output_type": "stream",
     "text": [
      "No water level was recorded for this date and time:2018-10-10 18:18,,,1,1,1,1,p\n",
      "\n",
      "6.647\n",
      "2018-10-10 18:06\n"
     ]
    }
   ],
   "source": [
    "#Problem 1\n",
    "\n",
    "#!usr/bin/env python\n",
    "\n",
    "fhand = open('/ufrc/bsc4452/share/Class_Files/data/CO-OPS__8729108__wl.csv')\n",
    "max_value = 0\n",
    "date = 0\n",
    "count = 0\n",
    "\n",
    "\n",
    "for line in fhand:\n",
    "    delimiter = ','\n",
    "    t = line.split(delimiter)\n",
    "    if count > 0:\n",
    "        try:\n",
    "            if float (t[1]) > max_value:\n",
    "                max_value = float(t[1])\n",
    "                date = t[0]\n",
    "        except:\n",
    "            print (f'No water level was recorded for this date and time:{line}')\n",
    "    count = + 1 \n",
    "    \n",
    "print(max_value)\n",
    "print(date)\n",
    "        \n",
    "        \n",
    "        \n",
    "        \n",
    "       \n",
    "\n",
    "    \n",
    "   \n",
    "\n",
    "\n",
    "\n"
   ]
  },
  {
   "cell_type": "code",
   "execution_count": 8,
   "metadata": {},
   "outputs": [
    {
     "data": {
      "text/html": [
       "<div>\n",
       "<style scoped>\n",
       "    .dataframe tbody tr th:only-of-type {\n",
       "        vertical-align: middle;\n",
       "    }\n",
       "\n",
       "    .dataframe tbody tr th {\n",
       "        vertical-align: top;\n",
       "    }\n",
       "\n",
       "    .dataframe thead th {\n",
       "        text-align: right;\n",
       "    }\n",
       "</style>\n",
       "<table border=\"1\" class=\"dataframe\">\n",
       "  <thead>\n",
       "    <tr style=\"text-align: right;\">\n",
       "      <th></th>\n",
       "      <th>Date Time</th>\n",
       "      <th>Water Level</th>\n",
       "      <th>Sigma</th>\n",
       "      <th>O</th>\n",
       "      <th>F</th>\n",
       "      <th>R</th>\n",
       "      <th>L</th>\n",
       "      <th>Quality</th>\n",
       "    </tr>\n",
       "  </thead>\n",
       "  <tbody>\n",
       "    <tr>\n",
       "      <th>421</th>\n",
       "      <td>2018-10-10 18:06</td>\n",
       "      <td>6.647</td>\n",
       "      <td>0.561</td>\n",
       "      <td>1</td>\n",
       "      <td>0</td>\n",
       "      <td>0</td>\n",
       "      <td>0</td>\n",
       "      <td>p</td>\n",
       "    </tr>\n",
       "  </tbody>\n",
       "</table>\n",
       "</div>"
      ],
      "text/plain": [
       "            Date Time   Water Level   Sigma   O   F   R   L  Quality \n",
       "421  2018-10-10 18:06         6.647   0.561   1   0   0   0         p"
      ]
     },
     "execution_count": 8,
     "metadata": {},
     "output_type": "execute_result"
    }
   ],
   "source": [
    "#Problem 2\n",
    "\n",
    "#!usr/bin/env python\n",
    "#This code will display the whole data for the maimum water level\n",
    "\n",
    "import pandas as pd\n",
    "df=pd.read_csv('/ufrc/bsc4452/share/Class_Files/data/CO-OPS__8729108__wl.csv') \n",
    "df[df[' Water Level'] == df[' Water Level'].max()]\n",
    "\n"
   ]
  },
  {
   "cell_type": "code",
   "execution_count": 9,
   "metadata": {},
   "outputs": [
    {
     "data": {
      "text/html": [
       "<div>\n",
       "<style scoped>\n",
       "    .dataframe tbody tr th:only-of-type {\n",
       "        vertical-align: middle;\n",
       "    }\n",
       "\n",
       "    .dataframe tbody tr th {\n",
       "        vertical-align: top;\n",
       "    }\n",
       "\n",
       "    .dataframe thead th {\n",
       "        text-align: right;\n",
       "    }\n",
       "</style>\n",
       "<table border=\"1\" class=\"dataframe\">\n",
       "  <thead>\n",
       "    <tr style=\"text-align: right;\">\n",
       "      <th></th>\n",
       "      <th>Date Time</th>\n",
       "      <th>Water Level</th>\n",
       "      <th>Sigma</th>\n",
       "      <th>O</th>\n",
       "      <th>F</th>\n",
       "      <th>R</th>\n",
       "      <th>L</th>\n",
       "      <th>Quality</th>\n",
       "      <th>deltaWaterLevel</th>\n",
       "    </tr>\n",
       "  </thead>\n",
       "  <tbody>\n",
       "    <tr>\n",
       "      <th>417</th>\n",
       "      <td>2018-10-10 17:42</td>\n",
       "      <td>5.591</td>\n",
       "      <td>0.23</td>\n",
       "      <td>1</td>\n",
       "      <td>0</td>\n",
       "      <td>0</td>\n",
       "      <td>0</td>\n",
       "      <td>p</td>\n",
       "      <td>0.64</td>\n",
       "    </tr>\n",
       "  </tbody>\n",
       "</table>\n",
       "</div>"
      ],
      "text/plain": [
       "            Date Time   Water Level       ...          Quality   deltaWaterLevel\n",
       "417  2018-10-10 17:42         5.591       ...                 p             0.64\n",
       "\n",
       "[1 rows x 9 columns]"
      ]
     },
     "execution_count": 9,
     "metadata": {},
     "output_type": "execute_result"
    }
   ],
   "source": [
    "#Problem 3\n",
    "\n",
    "#!usr/bin/env python\n",
    "#This code will create an additional column 'deltaWaterLevel' that will display the difference between the water levels.\n",
    "#This code will display the whole data for the maximum water level 'deltaWaterLevel'\n",
    "\n",
    "import pandas as pd\n",
    "df=pd.read_csv('/ufrc/bsc4452/share/Class_Files/data/CO-OPS__8729108__wl.csv')\n",
    "df['deltaWaterLevel'] = (df[' Water Level']-df[' Water Level'].shift()).fillna(0)\n",
    "df[df['deltaWaterLevel'] == df['deltaWaterLevel'].max()]\n"
   ]
  },
  {
   "cell_type": "code",
   "execution_count": 38,
   "metadata": {},
   "outputs": [
    {
     "data": {
      "image/png": "[encoded data removed]",
      "text/plain": [
       "<matplotlib.figure.Figure at 0x2b14121bab00>"
      ]
     },
     "metadata": {},
     "output_type": "display_data"
    }
   ],
   "source": [
    "#Problem 4\n",
    "\n",
    "#!usr/bin/env python\n",
    "\n",
    "%matplotlib inline\n",
    "\n",
    "import matplotlib.pyplot as plt\n",
    "import pandas as pd\n",
    "\n",
    "\n",
    "df = pd.read_csv('/ufrc/bsc4452/share/Class_Files/data/CO-OPS__8729108__wl.csv')\n",
    "\n",
    "plt.plot(df[' Water Level'], df['Date Time'], label = 'loaded from file', color='red')\n",
    "\n",
    "plt.xlabel(' Water Level')\n",
    "plt.ylabel('Date Time')\n",
    "plt.title('Water level over time')\n",
    "plt.legend()\n",
    "plt.show()"
   ]
  },
  {
   "cell_type": "code",
   "execution_count": 7,
   "metadata": {},
   "outputs": [
    {
     "name": "stdin",
     "output_type": "stream",
     "text": [
      "Enter a specific data:  20202\n"
     ]
    },
    {
     "name": "stdout",
     "output_type": "stream",
     "text": [
      "Retrieving https://tidesandcurrents.noaa.gov/waterlevels.html?+Water+Level=20202\n"
     ]
    },
    {
     "ename": "TypeError",
     "evalue": "'NoneType' object is not iterable",
     "output_type": "error",
     "traceback": [
      "\u001b[0;31m---------------------------------------------------------------------------\u001b[0m",
      "\u001b[0;31mTypeError\u001b[0m                                 Traceback (most recent call last)",
      "\u001b[0;32m<ipython-input-7-1673af4e5779>\u001b[0m in \u001b[0;36m<module>\u001b[0;34m()\u001b[0m\n\u001b[1;32m     18\u001b[0m         \u001b[0mjs\u001b[0m \u001b[0;34m=\u001b[0m \u001b[0;32mNone\u001b[0m\u001b[0;34m\u001b[0m\u001b[0m\n\u001b[1;32m     19\u001b[0m \u001b[0;34m\u001b[0m\u001b[0m\n\u001b[0;32m---> 20\u001b[0;31m     \u001b[0;32mfor\u001b[0m \u001b[0mWater\u001b[0m \u001b[0;32min\u001b[0m \u001b[0mjs\u001b[0m\u001b[0;34m:\u001b[0m\u001b[0;34m\u001b[0m\u001b[0m\n\u001b[0m\u001b[1;32m     21\u001b[0m        \u001b[0mprint\u001b[0m\u001b[0;34m(\u001b[0m\u001b[0;34m\"Water Level:\"\u001b[0m\u001b[0;34m,\u001b[0m \u001b[0mWater\u001b[0m\u001b[0;34m[\u001b[0m\u001b[0;34m' Water Level'\u001b[0m\u001b[0;34m]\u001b[0m\u001b[0;34m)\u001b[0m\u001b[0;34m\u001b[0m\u001b[0m\n\u001b[1;32m     22\u001b[0m        \u001b[0mprint\u001b[0m\u001b[0;34m(\u001b[0m\u001b[0;34m\"Date:\"\u001b[0m\u001b[0;34m,\u001b[0m \u001b[0mWater\u001b[0m\u001b[0;34m[\u001b[0m\u001b[0;34m'Date Time'\u001b[0m\u001b[0;34m]\u001b[0m\u001b[0;34m)\u001b[0m\u001b[0;34m\u001b[0m\u001b[0m\n",
      "\u001b[0;31mTypeError\u001b[0m: 'NoneType' object is not iterable"
     ]
    }
   ],
   "source": [
    "#Extra Credit\n",
    "\n",
    "#!usr/bin/env python\n",
    "\n",
    "#I was not able to find the problem with this code\n",
    "\n",
    "import json\n",
    "import urllib.request, urllib.parse, urllib.error\n",
    "\n",
    "serviceurl = 'https://tidesandcurrents.noaa.gov/waterlevels.html'\n",
    "\n",
    "while True:\n",
    "    Water_Level = input('Enter a specific data: ')\n",
    "    if len(Water_Level) < 1: break\n",
    "\n",
    "    url = serviceurl + \"?\" + urllib.parse.urlencode(\n",
    "        {' Water Level': Water_Level})\n",
    "\n",
    "    print('Retrieving', url)\n",
    "\n",
    "    try:\n",
    "        js = json.loads(data)\n",
    "    except:\n",
    "        js = None\n",
    "        \n",
    "    for Water in js:\n",
    "       print(\"Water Level:\", Water[' Water Level'])\n",
    "       print(\"Date:\", Water['Date Time'])\n",
    "\n",
    "    \n",
    "\n",
    "      "
   ]
  },
  {
   "cell_type": "code",
   "execution_count": null,
   "metadata": {},
   "outputs": [],
   "source": []
  }
 ],
 "metadata": {
  "kernelspec": {
   "display_name": "Python 3.6. (full)",
   "language": "python",
   "name": "python3-3.6-ufrc"
  },
  "language_info": {
   "codemirror_mode": {
    "name": "ipython",
    "version": 3
   },
   "file_extension": ".py",
   "mimetype": "text/x-python",
   "name": "python",
   "nbconvert_exporter": "python",
   "pygments_lexer": "ipython3",
   "version": "3.6.5"
  }
 },
 "nbformat": 4,
 "nbformat_minor": 4
}
